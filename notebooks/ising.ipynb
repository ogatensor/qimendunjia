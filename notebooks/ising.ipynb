{
 "cells": [
  {
   "cell_type": "markdown",
   "metadata": {},
   "source": [
    "The Ising model is a mathematical model used in statistical physics to describe the behavior of magnetic materials. It is named after the physicist Ernst Ising, who proposed the model in 1925.\n",
    "\n",
    "The Ising model considers a system of discrete spins, which can take on one of two possible values, usually denoted as +1 and -1. These spins are arranged in a lattice, and they interact with their nearest neighbors through a coupling interaction. The strength of this interaction is determined by a parameter called the exchange interaction or coupling constant.\n",
    "\n",
    "The Ising model can be used to study the phase transitions and critical phenomena in magnetic materials, such as the transition between ferromagnetic and paramagnetic states. The model can be applied to various lattice structures, including one-dimensional, two-dimensional, and three-dimensional systems.\n",
    "\n",
    "The Hamiltonian (or energy function) of the Ising model is typically written as:\n",
    "\n",
    "H = -J Σ (i,j) s_i s_j - h Σ s_i\n",
    "\n",
    "where:\n",
    "- J is the exchange interaction or coupling constant\n",
    "- s_i is the spin variable at site i, which can take values of +1 or -1\n",
    "- h is the external magnetic field\n",
    "- The first sum is over all nearest-neighbor pairs of spins, and the second sum is over all spins in the system.\n",
    "\n",
    "The Ising model has been extensively studied in statistical physics and has provided valuable insights into the understanding of phase transitions, critical phenomena, and the behavior of magnetic materials.\n"
   ]
  },
  {
   "cell_type": "code",
   "execution_count": null,
   "metadata": {
    "vscode": {
     "languageId": "plaintext"
    }
   },
   "outputs": [],
   "source": [
    "import numpy as np\n",
    "import matplotlib.pyplot as plt\n",
    "\n",
    "def ising_model(L, J, h, T, num_steps):\n",
    "    \"\"\"\n",
    "    Simulates the 2D Ising model using the Metropolis algorithm.\n",
    "\n",
    "    Parameters:\n",
    "    L (int): The size of the square lattice.\n",
    "    J (float): The exchange interaction or coupling constant.\n",
    "    h (float): The external magnetic field.\n",
    "    T (float): The temperature of the system.\n",
    "    num_steps (int): The number of Monte Carlo steps to perform.\n",
    "\n",
    "    Returns:\n",
    "    np.ndarray: The final state of the spin lattice.\n",
    "    \"\"\"\n",
    "    # Initialize the spin lattice randomly\n",
    "    spins = 2 * np.random.randint(2, size=(L, L)) - 1\n",
    "\n",
    "    # Perform the Monte Carlo simulation\n",
    "    for _ in range(num_steps):\n",
    "        # Select a random spin\n",
    "        i, j = np.random.randint(0, L, size=2)\n",
    "\n",
    "        # Calculate the energy change for flipping the spin\n",
    "        delta_E = 2 * J * spins[i, j] * (spins[(i-1) % L, j] + spins[(i+1) % L, j] +\n",
    "                                         spins[i, (j-1) % L] + spins[i, (j+1) % L]) + 2 * h * spins[i, j]\n",
    "\n",
    "        # Apply the Metropolis algorithm to decide whether to flip the spin\n",
    "        if delta_E <= 0 or np.random.rand() < np.exp(-delta_E / T):\n",
    "            spins[i, j] *= -1\n",
    "\n",
    "    return spins\n",
    "\n",
    "# Example usage\n",
    "L = 20\n",
    "J = 1.0\n",
    "h = 0.0\n",
    "T = 2.4\n",
    "num_steps = 10000\n",
    "\n",
    "final_state = ising_model(L, J, h, T, num_steps)\n",
    "\n",
    "# Visualize the final spin configuration\n",
    "plt.figure(figsize=(8, 8))\n",
    "plt.imshow(final_state, cmap='RdBu')\n",
    "plt.colorbar()\n",
    "plt.title('Final Spin Configuration')\n",
    "plt.show()"
   ]
  },
  {
   "cell_type": "markdown",
   "metadata": {},
   "source": [
    "This implementation uses the Metropolis algorithm to simulate the dynamics of the 2D Ising model. The ising_model function takes the following parameters:\n",
    "\n",
    "L: The size of the square lattice.\n",
    "J: The exchange interaction or coupling constant.\n",
    "h: The external magnetic field.\n",
    "T: The temperature of the system.\n",
    "num_steps: The number of Monte Carlo steps to perform.\n",
    "The function initializes the spin lattice randomly and then performs the Monte Carlo simulation by randomly selecting a spin and deciding whether to flip it based on the Metropolis algorithm. The final state of the spin lattice is returned.\n",
    "\n",
    "The example usage at the end of the code visualizes the final spin configuration using the matplotlib library.\n",
    "\n",
    "You can experiment with different values of the parameters to observe the behavior of the Ising model, such as the phase transition between ferromagnetic and paramagnetic states."
   ]
  }
 ],
 "metadata": {
  "language_info": {
   "name": "python"
  }
 },
 "nbformat": 4,
 "nbformat_minor": 2
}
